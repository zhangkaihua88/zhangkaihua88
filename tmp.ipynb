{
 "cells": [
  {
   "cell_type": "code",
   "execution_count": 1,
   "metadata": {},
   "outputs": [],
   "source": [
    "from collections import defaultdict\n",
    "import requests\n",
    "import json\n",
    "import time\n",
    "\n",
    "\n",
    "base_url = 'https://api.github.com/search/issues?q=-label:invalid+type:pr+is:public+author:zhangkaihua88&per_page=1000'\n",
    "\n",
    "\n",
    "def get_json(url):\n",
    "    response = requests.get(url)\n",
    "    data = json.loads(response.text)\n",
    "    return data\n",
    "\n",
    "\n",
    "raw_data = get_json(base_url)\n",
    "raw_data = [item for item in raw_data['items'] if item['state'] == 'closed']\n",
    "# print(data)"
   ]
  },
  {
   "cell_type": "code",
   "execution_count": 2,
   "metadata": {},
   "outputs": [],
   "source": [
    "data = defaultdict(dict)"
   ]
  },
  {
   "cell_type": "code",
   "execution_count": 3,
   "metadata": {},
   "outputs": [],
   "source": [
    "for item_data in raw_data:\n",
    "    item_repo = item_data['repository_url'].split('/')[-1]\n",
    "    item_name = item_data['repository_url'].split('/')[-2]\n",
    "\n",
    "    item_repo_url = item_data['repository_url'].replace('api.', '').replace('repos/', '')\n",
    "    item_name_url = item_data['repository_url'].replace('api.', '').replace('repos/', '').replace(f'/{item_repo}', '')\n",
    "\n",
    "    item_data_appended = get_json(item_data['pull_request']['url'])\n",
    "    if item_data_appended['merged']:\n",
    "        add_base = data[f'{item_name}/{item_repo}'].get('additions', 0)\n",
    "        del_base = data[f'{item_name}/{item_repo}'].get('deletions', 0)\n",
    "        count_base = data[f'{item_name}/{item_repo}'].get('count', 0)\n",
    "        data[f'{item_name}/{item_repo}'] = {\n",
    "            'additions':item_data_appended['additions']+add_base, \n",
    "            'deletions':item_data_appended['deletions']+del_base,\n",
    "            'count':count_base+1,\n",
    "        }\n"
   ]
  },
  {
   "cell_type": "code",
   "execution_count": 6,
   "metadata": {},
   "outputs": [],
   "source": [
    "keys = sorted(data, key=lambda x: data[x]['additions']+data[x]['deletions'], reverse=True)"
   ]
  },
  {
   "cell_type": "code",
   "execution_count": 8,
   "metadata": {},
   "outputs": [
    {
     "name": "stdout",
     "output_type": "stream",
     "text": [
      "rougier/scientific-visualization-book 12 2\n",
      "dptech-corp/Uni-Mol 2 1\n",
      "freeCodeCamp/how-to-contribute-to-open-source 2 1\n"
     ]
    }
   ],
   "source": []
  },
  {
   "cell_type": "code",
   "execution_count": 25,
   "metadata": {},
   "outputs": [],
   "source": [
    "def gen_item(data, key):\n",
    "    strings = f\"[{key}](https://github.com/{key}) PR \" + str(data['count']) + \" times with ${\\color{green}{-\" + str(data['deletions']) + \"}} \\ {\\color{red}{+\" + str(data['additions']) + \"}}$\\n\"\n",
    "    return strings\n",
    "\n",
    "strings = '<img src=\"./images/git-merge.svg\" width=\"60px\" style=\"max-width: 100%;\">\\n'\n",
    "for item in keys:\n",
    "    strings += gen_item(data[item], item)"
   ]
  },
  {
   "cell_type": "code",
   "execution_count": null,
   "metadata": {},
   "outputs": [],
   "source": []
  },
  {
   "cell_type": "code",
   "execution_count": 26,
   "metadata": {},
   "outputs": [
    {
     "name": "stdout",
     "output_type": "stream",
     "text": [
      "[rougier/scientific-visualization-book](https://github.com/rougier/scientific-visualization-book) PR 2 times with ${\\color{green}{-6}} \\ {\\color{red}{+6}}$\n",
      "[dptech-corp/Uni-Mol](https://github.com/dptech-corp/Uni-Mol) PR 1 times with ${\\color{green}{-1}} \\ {\\color{red}{+1}}$\n",
      "[freeCodeCamp/how-to-contribute-to-open-source](https://github.com/freeCodeCamp/how-to-contribute-to-open-source) PR 1 times with ${\\color{green}{-1}} \\ {\\color{red}{+1}}$\n",
      "\n"
     ]
    }
   ],
   "source": [
    "print(strings)"
   ]
  },
  {
   "cell_type": "code",
   "execution_count": null,
   "metadata": {},
   "outputs": [],
   "source": []
  }
 ],
 "metadata": {
  "kernelspec": {
   "display_name": "Python 3.8.8 ('base')",
   "language": "python",
   "name": "python3"
  },
  "language_info": {
   "codemirror_mode": {
    "name": "ipython",
    "version": 3
   },
   "file_extension": ".py",
   "mimetype": "text/x-python",
   "name": "python",
   "nbconvert_exporter": "python",
   "pygments_lexer": "ipython3",
   "version": "3.8.8"
  },
  "orig_nbformat": 4,
  "vscode": {
   "interpreter": {
    "hash": "688e27ea2201f24f036ee87480d7d8d79d04e5ade5319763c122c3e5a8095f9a"
   }
  }
 },
 "nbformat": 4,
 "nbformat_minor": 2
}
